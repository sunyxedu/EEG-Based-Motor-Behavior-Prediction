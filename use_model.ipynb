{
 "cells": [
  {
   "cell_type": "code",
   "execution_count": 1,
   "metadata": {},
   "outputs": [
    {
     "name": "stdout",
     "output_type": "stream",
     "text": [
      "\n",
      "config/model_param/DGCNN.yaml may not exist or not available\n",
      "DGCNN Model, Parameters:\n",
      "\n",
      "k (The order of Chebyshev polynomials):                         2\n",
      "relu_is (The type of B_Relu func):                              1\n",
      "layers (The channels of each layers):        None                \n",
      "dropout rate:                                                 0.5\n",
      "\n",
      "Not Using Default Setting, the performance may be not the best\n",
      "Starting......\n"
     ]
    },
    {
     "name": "stderr",
     "output_type": "stream",
     "text": [
      "/var/folders/1m/gbshmby16g9fs3zqv94pkdx80000gn/T/ipykernel_40000/2901139373.py:8: FutureWarning: You are using `torch.load` with `weights_only=False` (the current default value), which uses the default pickle module implicitly. It is possible to construct malicious pickle data which will execute arbitrary code during unpickling (See https://github.com/pytorch/pytorch/blob/main/SECURITY.md#untrusted-models for more details). In a future release, the default value for `weights_only` will be flipped to `True`. This limits the functions that could be executed during unpickling. Arbitrary objects will no longer be allowed to be loaded via this mode unless they are explicitly allowlisted by the user via `torch.serialization.add_safe_globals`. We recommend you start setting `weights_only=True` for any use case where you don't have full control of the loaded file. Please open an issue on GitHub for any issues related to this experimental feature.\n",
      "  model.load_state_dict(torch.load(\"best_model.pth\"))\n"
     ]
    },
    {
     "data": {
      "text/plain": [
       "DGCNN(\n",
       "  (graphConvs): ModuleList(\n",
       "    (0): GraphConv()\n",
       "  )\n",
       "  (fc): Linear(in_features=3776, out_features=256, bias=True)\n",
       "  (fc2): Linear(in_features=256, out_features=4, bias=True)\n",
       "  (relu): ReLU(inplace=True)\n",
       "  (b_relus): ModuleList(\n",
       "    (0): B1ReLU(\n",
       "      (relu): ReLU()\n",
       "    )\n",
       "  )\n",
       "  (dropout): Dropout(p=0.5, inplace=False)\n",
       ")"
      ]
     },
     "execution_count": 1,
     "metadata": {},
     "output_type": "execute_result"
    }
   ],
   "source": [
    "import torch\n",
    "import sys\n",
    "sys.path.append('LibEER/LibEER/models')\n",
    "from DGCNN import DGCNN\n",
    "device = torch.device(\"mps\" if torch.backends.mps.is_available() else\n",
    "                      \"cuda\" if torch.cuda.is_available() else \"cpu\")\n",
    "model = DGCNN(num_electrodes=59, in_channels=100, num_classes=4, k=2, relu_is=1, layers=None, dropout_rate=0.5)\n",
    "model.load_state_dict(torch.load(\"best_model.pth\"))\n",
    "model = model.to(device)\n",
    "model.eval()\n"
   ]
  },
  {
   "cell_type": "code",
   "execution_count": null,
   "metadata": {},
   "outputs": [],
   "source": [
    "data = torch.tensor([\n",
    "    -3, -3, -3, -8, -4, -5, -4, 1, 1, -6, -10, -1, -10, -1, -8, 0, -8, 2, -1, -1, -11, \n",
    "    -4, 4, -1, 38, 5, -3, -1, -7, -7, 3, 0, 9, 2, 1, 0, -4, -5, 1, -4, 7, 1, 1, -1, \n",
    "    1, -3, 2, 7, 6, 1, 1, 1, 0, -3, 6, 7, 2, 7, 5\n",
    "], dtype=torch.float32)\n",
    "\n",
    "data = data.unsqueeze(0).unsqueeze(0) \n",
    "data = data.to(device)"
   ]
  },
  {
   "cell_type": "code",
   "execution_count": null,
   "metadata": {},
   "outputs": [],
   "source": [
    "print(f\"Model expected input shape: {model}\")\n"
   ]
  }
 ],
 "metadata": {
  "kernelspec": {
   "display_name": "Python 3",
   "language": "python",
   "name": "python3"
  },
  "language_info": {
   "codemirror_mode": {
    "name": "ipython",
    "version": 3
   },
   "file_extension": ".py",
   "mimetype": "text/x-python",
   "name": "python",
   "nbconvert_exporter": "python",
   "pygments_lexer": "ipython3",
   "version": "3.11.5"
  }
 },
 "nbformat": 4,
 "nbformat_minor": 2
}
