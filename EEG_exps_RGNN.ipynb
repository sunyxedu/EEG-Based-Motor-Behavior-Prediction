{
 "cells": [
  {
   "cell_type": "code",
   "execution_count": 1,
   "metadata": {
    "ExecuteTime": {
     "end_time": "2025-01-17T22:04:08.184886Z",
     "start_time": "2025-01-17T22:01:51.851415Z"
    },
    "id": "F9eZxkdC2l_4"
   },
   "outputs": [],
   "source": [
    "# !wget https://www.bbci.de/competition/download/competition_iv/BCICIV_1_mat.zip\n",
    "# !unzip -q BCICIV_1_mat.zip\n",
    "# !rm -rf BCICIV_1_mat.zip"
   ]
  },
  {
   "cell_type": "code",
   "execution_count": 2,
   "metadata": {
    "ExecuteTime": {
     "end_time": "2025-01-17T22:04:08.322636Z",
     "start_time": "2025-01-17T22:04:08.188410Z"
    },
    "id": "0DGKsFl0mv3Y"
   },
   "outputs": [],
   "source": [
    "# !git clone https://github.com/XJTU-EEG/LibEER.git"
   ]
  },
  {
   "cell_type": "code",
   "execution_count": 3,
   "metadata": {
    "ExecuteTime": {
     "end_time": "2025-01-17T22:04:09.870464Z",
     "start_time": "2025-01-17T22:04:08.325922Z"
    },
    "id": "eVeoCU3N3DTD"
   },
   "outputs": [],
   "source": [
    "import os\n",
    "import gc\n",
    "import math\n",
    "import random\n",
    "import scipy.io\n",
    "import numpy as np\n",
    "from tqdm import tqdm\n",
    "from sklearn.metrics import precision_recall_fscore_support\n",
    "\n",
    "import torch\n",
    "import torch.nn as nn\n",
    "import torch.nn.functional as F\n",
    "from torch.utils.data import Dataset, DataLoader, WeightedRandomSampler\n",
    "\n",
    "import sys\n",
    "sys.path.append('LibEER/LibEER')\n",
    "sys.path.append('LibEER/LibEER/models')"
   ]
  },
  {
   "cell_type": "code",
   "execution_count": 4,
   "metadata": {
    "ExecuteTime": {
     "end_time": "2025-01-17T22:04:09.887143Z",
     "start_time": "2025-01-17T22:04:09.871647Z"
    },
    "id": "VmdLAu5CndVO"
   },
   "outputs": [],
   "source": [
    "from RGNN import RGNN"
   ]
  },
  {
   "cell_type": "code",
   "execution_count": 5,
   "metadata": {
    "ExecuteTime": {
     "end_time": "2025-01-17T22:04:09.889325Z",
     "start_time": "2025-01-17T22:04:09.887738Z"
    },
    "id": "N65UofX72vnj"
   },
   "outputs": [],
   "source": [
    "TRAIN = ['a', 'b', 'd', 'e', 'g']\n",
    "VALID = ['c', 'f']"
   ]
  },
  {
   "cell_type": "code",
   "execution_count": 6,
   "metadata": {
    "ExecuteTime": {
     "end_time": "2025-01-17T22:04:09.891848Z",
     "start_time": "2025-01-17T22:04:09.889955Z"
    },
    "id": "92-ucS3J5KVm"
   },
   "outputs": [],
   "source": [
    "# a - left, foot\n",
    "# b - left, right\n",
    "# c - left, right\n",
    "# d - left, right\n",
    "# e - left, right\n",
    "# f - left, foot\n",
    "# g - left, right"
   ]
  },
  {
   "cell_type": "code",
   "execution_count": 7,
   "metadata": {
    "ExecuteTime": {
     "end_time": "2025-01-17T22:04:09.894175Z",
     "start_time": "2025-01-17T22:04:09.892403Z"
    },
    "id": "CrulqTMpBYip"
   },
   "outputs": [],
   "source": [
    "LABELS = {\n",
    "    'idle': 0,\n",
    "    'left' : 1,\n",
    "    'right': 2,\n",
    "    'foot': 3\n",
    "}\n",
    "\n",
    "LR = 1e-2\n",
    "EPOCHS = 1000\n",
    "BATCH_SIZE = 64"
   ]
  },
  {
   "cell_type": "code",
   "execution_count": 8,
   "metadata": {
    "ExecuteTime": {
     "end_time": "2025-01-17T22:04:09.898605Z",
     "start_time": "2025-01-17T22:04:09.894974Z"
    },
    "id": "_GX7xq4nAkiC"
   },
   "outputs": [],
   "source": [
    "def get_labels(data):\n",
    "    N = len(data['cnt'])\n",
    "\n",
    "    labels = np.zeros((N, 4), dtype=np.uint8)\n",
    "    labels[:, 0] = 1\n",
    "\n",
    "    cls_labels = [d[0] for d in data['nfo'][0][0][1][0].tolist()]\n",
    "    timestamps = data['mrk'][0][0][0]\n",
    "    cls_idx = data['mrk'][0][0][1]\n",
    "\n",
    "    t1 = timestamps[np.where(cls_idx == 1)]\n",
    "    l1 = [0]*4\n",
    "    l1[LABELS[cls_labels[0]]] = 1\n",
    "    l1 = np.asarray([l1]*100)\n",
    "    for t in t1:\n",
    "        labels[t-50:t+50] = l1 # change to t :t+100\n",
    "\n",
    "    t2 = timestamps[np.where(cls_idx == -1)]\n",
    "    l2 = [0]*4\n",
    "    l2[LABELS[cls_labels[1]]] = 1\n",
    "    l2 = np.asarray([l2]*100)\n",
    "    for t in t2:\n",
    "        labels[t-50:t+50] = l2\n",
    "\n",
    "    return labels\n",
    "\n",
    "def get_data(data_id, split_size):\n",
    "    data = scipy.io.loadmat(f'BCICIV_calib_ds1{data_id}.mat')\n",
    "    eegs = data['cnt']\n",
    "    labels = get_labels(data)\n",
    "    np.savetxt(f\"labels_{data_id}.csv\", labels, delimiter=\",\", fmt=\"%d\")\n",
    "    \n",
    "    splits = range(split_size, len(eegs), split_size)\n",
    "\n",
    "    eegs_split = np.array_split(eegs, splits)[:-1]\n",
    "    labels_split = np.array_split(labels, splits)[:-1]\n",
    "    return eegs_split, labels_split"
   ]
  },
  {
   "cell_type": "code",
   "execution_count": 9,
   "metadata": {
    "ExecuteTime": {
     "end_time": "2025-01-17T22:04:10.055856Z",
     "start_time": "2025-01-17T22:04:09.899150Z"
    },
    "id": "P3m9vQCzkxxG"
   },
   "outputs": [
    {
     "name": "stderr",
     "output_type": "stream",
     "text": [
      "100%|██████████| 5/5 [00:00<00:00,  7.30it/s]\n",
      "100%|██████████| 2/2 [00:00<00:00,  7.34it/s]\n"
     ]
    }
   ],
   "source": [
    "train_eegs, train_labels, valid_eegs, valid_labels = [], [], [], []\n",
    "\n",
    "for train_id in tqdm(TRAIN):\n",
    "    # print(train_id)\n",
    "    eegs_split, labels_split = get_data(train_id, split_size=200)\n",
    "    train_eegs.extend(eegs_split)\n",
    "    train_labels.extend(labels_split)\n",
    "\n",
    "for valid_id in tqdm(VALID):\n",
    "    eegs_split, labels_split = get_data(valid_id, split_size=100)\n",
    "    valid_eegs.extend(eegs_split)\n",
    "    valid_labels.extend(labels_split)"
   ]
  },
  {
   "cell_type": "code",
   "execution_count": 10,
   "metadata": {
    "ExecuteTime": {
     "end_time": "2025-01-17T22:04:10.062476Z",
     "start_time": "2025-01-17T22:04:10.058842Z"
    },
    "id": "F0c13UWekxqE"
   },
   "outputs": [],
   "source": [
    "class EEGDataset(Dataset):\n",
    "    def __init__(self, eegs, labels, split):\n",
    "        self.eegs = eegs\n",
    "        self.labels = labels\n",
    "        self.split = split\n",
    "\n",
    "    def __getitem__(self, i):\n",
    "        eeg, label = self.eegs[i], self.labels[i]\n",
    "        if self.split == 'train':\n",
    "            start_idx = random.randint(0, 100)\n",
    "            eeg = eeg[start_idx:start_idx+100]\n",
    "            label = label[start_idx:start_idx+100]\n",
    "\n",
    "        eeg = torch.from_numpy(eeg).float()\n",
    "        #eeg = (eeg - MEAN)/STD\n",
    "        eeg = (eeg - torch.mean(eeg, dim=0))/torch.std(eeg, dim=0)\n",
    "        eeg = eeg.transpose(0, 1)\n",
    "\n",
    "        # print(f\"Single sample shape: {eeg.shape}\")\n",
    "        \n",
    "        label_soft = torch.from_numpy(label).float().mean(dim=0)\n",
    "        #label_hard = torch.argmax(label_soft)\n",
    "        return eeg, label_soft\n",
    "\n",
    "    def __len__(self):\n",
    "        return len(self.eegs)"
   ]
  },
  {
   "cell_type": "code",
   "execution_count": 11,
   "metadata": {},
   "outputs": [],
   "source": [
    "dataset_train = EEGDataset(train_eegs, train_labels, 'train')\n",
    "dataloader_train = DataLoader(dataset_train, batch_size=BATCH_SIZE, num_workers=0,\n",
    "                              shuffle=True, pin_memory=True, drop_last=True)\n",
    "n_train = len(dataloader_train)\n",
    "\n",
    "dataset_valid = EEGDataset(valid_eegs, valid_labels, 'valid')\n",
    "dataloader_valid = DataLoader(dataset_valid, batch_size=BATCH_SIZE, num_workers=0,\n",
    "                              shuffle=False, pin_memory=True, drop_last=False)\n",
    "n_valid = len(dataloader_valid)"
   ]
  },
  {
   "cell_type": "code",
   "execution_count": 12,
   "metadata": {
    "ExecuteTime": {
     "end_time": "2025-01-17T22:04:10.069631Z",
     "start_time": "2025-01-17T22:04:10.067935Z"
    },
    "id": "e_ji2L13pS77"
   },
   "outputs": [],
   "source": [
    "def count_parameters(model):\n",
    "    return sum(p.numel() for p in model.parameters() if p.requires_grad) / 1e6"
   ]
  },
  {
   "cell_type": "code",
   "execution_count": 13,
   "metadata": {
    "ExecuteTime": {
     "end_time": "2025-01-17T22:04:10.669027Z",
     "start_time": "2025-01-17T22:04:10.070114Z"
    },
    "id": "-NiQttp1mu0L"
   },
   "outputs": [
    {
     "name": "stdout",
     "output_type": "stream",
     "text": [
      "\n",
      "config/model_param/RGNN.yaml may not exist or not available\n",
      "RGNN Model, Parameters:\n",
      "\n",
      "num layers:                                                     2\n",
      "num_hidden:                                                   512\n",
      "dropout:                                                      0.5\n",
      "domain_adaptation:                                              0\n",
      "\n",
      "prior_known_init:                                               1\n",
      "Not Using Default Setting, the performance may be not the best\n",
      "\n",
      "When you run subject_independent setting, you should set the domain_adaptation to True\n",
      "\n",
      "num_hidden, noise_level should be set by the dataset\n",
      "Starting......\n",
      "Number of parameters: 15.52M\n"
     ]
    }
   ],
   "source": [
    "model = RGNN(num_electrodes=59, in_channels=100, num_classes=4, num_layers=2, num_hidden=512, noise_level=0.1,\n",
    "                 dropout=0.5, domain_adaptation=False, prior_known_init=True)\n",
    "\n",
    "print(f'Number of parameters: {count_parameters(model):.2f}M')\n",
    "device = torch.device(\"mps\" if torch.backends.mps.is_available() else\n",
    "                      \"cuda\" if torch.cuda.is_available() else \"cpu\")\n",
    "\n",
    "# Convert model parameters to float32 before moving to device\n",
    "model = model.float()\n",
    "model = model.to(device)\n",
    "\n",
    "criterion = nn.CrossEntropyLoss()\n",
    "loss_name = \"Cross_Entropy\"\n",
    "\n",
    "# Calculate class weights based on label distribution\n",
    "# labels = torch.stack([label for _, label in dataset_train]).float()  # Ensure float32\n",
    "# label_counts = torch.bincount(torch.argmax(labels, dim=1))\n",
    "# class_weights = 1.0 / label_counts\n",
    "# class_weights = class_weights / class_weights.sum()\n",
    "# class_weights = class_weights.float().to(device)  # Ensure float32\n",
    "\n",
    "# criterion = nn.CrossEntropyLoss(weight=class_weights)\n",
    "# loss_name = \"Weighted_Cross_Entropy\"\n",
    "\n",
    "#grad_scaler = torch.amp.GradScaler('cuda')\n",
    "optimizer = torch.optim.AdamW(model.parameters(), lr=LR, betas=[0.9, 0.999], weight_decay=0.001)\n",
    "\n",
    "\n",
    "#scheduler = torch.optim.lr_scheduler.OneCycleLR(optimizer, max_lr=LR,\n",
    "#                                                steps_per_epoch=10, epochs=EPOCHS//10,\n",
    "#                                                pct_start=0.1)"
   ]
  },
  {
   "cell_type": "code",
   "execution_count": 14,
   "metadata": {},
   "outputs": [
    {
     "name": "stdout",
     "output_type": "stream",
     "text": [
      "Input shape: torch.Size([64, 59, 100])\n",
      "Label shape: torch.Size([64, 4])\n"
     ]
    }
   ],
   "source": [
    "for x, y in dataloader_train:\n",
    "    print(\"Input shape:\", x.shape)\n",
    "    print(\"Label shape:\", y.shape)\n",
    "    break"
   ]
  },
  {
   "cell_type": "code",
   "execution_count": 15,
   "metadata": {},
   "outputs": [
    {
     "name": "stdout",
     "output_type": "stream",
     "text": [
      "edge_weight: 0.1028\n",
      "sgc.w.weight: -0.0000\n",
      "sgc.w.bias: 0.0000\n",
      "fc.weight: -0.0000\n",
      "fc.bias: 0.0000\n",
      "fc2.weight: 0.0009\n",
      "fc2.bias: 0.0000\n"
     ]
    }
   ],
   "source": [
    "for name, param in model.named_parameters():\n",
    "    print(f\"{name}: {param.mean().item():.4f}\")"
   ]
  },
  {
   "cell_type": "code",
   "execution_count": 16,
   "metadata": {
    "ExecuteTime": {
     "end_time": "2025-01-17T22:05:07.633383Z",
     "start_time": "2025-01-17T22:04:10.669640Z"
    },
    "id": "4RZEjEXJZ_bQ"
   },
   "outputs": [
    {
     "name": "stderr",
     "output_type": "stream",
     "text": [
      "/opt/anaconda3/lib/python3.11/site-packages/torch/optim/lr_scheduler.py:62: UserWarning: The verbose parameter is deprecated. Please use get_last_lr() to access the learning rate.\n",
      "  warnings.warn(\n",
      "Epoch 1/1000  MPS Active  LR : 1.00E-02  Loss: 4.3786: 100%|██████████| 74/74 [00:02<00:00, 34.06it/s] \n",
      "Val Loss: 0.5341: 100%|██████████| 60/60 [00:00<00:00, 64.01it/s]\n",
      "/opt/anaconda3/lib/python3.11/site-packages/sklearn/metrics/_classification.py:1531: UndefinedMetricWarning: Precision is ill-defined and being set to 0.0 in labels with no predicted samples. Use `zero_division` parameter to control this behavior.\n",
      "  _warn_prf(average, modifier, f\"{metric.capitalize()} is\", len(result))\n"
     ]
    },
    {
     "name": "stdout",
     "output_type": "stream",
     "text": [
      "Validation Accuracy: 0.8932\n",
      "Precision: ['0.8948', '0.0000', '0.0000', '0.0000']\n",
      "Recall: ['0.9979', '0.0000', '0.0000', '0.0000']\n",
      "FScore: ['0.9436', '0.0000', '0.0000', '0.0000']\n",
      "Best model saved!\n"
     ]
    },
    {
     "name": "stderr",
     "output_type": "stream",
     "text": [
      "Epoch 2/1000  MPS Active  LR : 1.00E-02  Loss: 0.5227: 100%|██████████| 74/74 [00:01<00:00, 41.44it/s]\n",
      "Val Loss: 0.5040: 100%|██████████| 60/60 [00:00<00:00, 68.59it/s]\n",
      "/opt/anaconda3/lib/python3.11/site-packages/sklearn/metrics/_classification.py:1531: UndefinedMetricWarning: Precision is ill-defined and being set to 0.0 in labels with no predicted samples. Use `zero_division` parameter to control this behavior.\n",
      "  _warn_prf(average, modifier, f\"{metric.capitalize()} is\", len(result))\n"
     ]
    },
    {
     "name": "stdout",
     "output_type": "stream",
     "text": [
      "Validation Accuracy: 0.8943\n",
      "Precision: ['0.8950', '0.0000', '0.0000', '0.0000']\n",
      "Recall: ['0.9991', '0.0000', '0.0000', '0.0000']\n",
      "FScore: ['0.9442', '0.0000', '0.0000', '0.0000']\n",
      "Best model saved!\n"
     ]
    },
    {
     "name": "stderr",
     "output_type": "stream",
     "text": [
      "Epoch 3/1000  MPS Active  LR : 1.00E-02  Loss: 0.4945: 100%|██████████| 74/74 [00:01<00:00, 39.01it/s]\n",
      "Val Loss: 0.4952: 100%|██████████| 60/60 [00:00<00:00, 72.56it/s]\n",
      "/opt/anaconda3/lib/python3.11/site-packages/sklearn/metrics/_classification.py:1531: UndefinedMetricWarning: Precision is ill-defined and being set to 0.0 in labels with no predicted samples. Use `zero_division` parameter to control this behavior.\n",
      "  _warn_prf(average, modifier, f\"{metric.capitalize()} is\", len(result))\n"
     ]
    },
    {
     "name": "stdout",
     "output_type": "stream",
     "text": [
      "Validation Accuracy: 0.8950\n",
      "Precision: ['0.8950', '0.0000', '0.0000', '0.0000']\n",
      "Recall: ['1.0000', '0.0000', '0.0000', '0.0000']\n",
      "FScore: ['0.9446', '0.0000', '0.0000', '0.0000']\n",
      "Best model saved!\n"
     ]
    },
    {
     "name": "stderr",
     "output_type": "stream",
     "text": [
      "Epoch 4/1000  MPS Active  LR : 1.00E-02  Loss: 0.4983: 100%|██████████| 74/74 [00:01<00:00, 40.65it/s]\n",
      "Val Loss: 0.4774: 100%|██████████| 60/60 [00:00<00:00, 72.96it/s]\n",
      "/opt/anaconda3/lib/python3.11/site-packages/sklearn/metrics/_classification.py:1531: UndefinedMetricWarning: Precision is ill-defined and being set to 0.0 in labels with no predicted samples. Use `zero_division` parameter to control this behavior.\n",
      "  _warn_prf(average, modifier, f\"{metric.capitalize()} is\", len(result))\n"
     ]
    },
    {
     "name": "stdout",
     "output_type": "stream",
     "text": [
      "Validation Accuracy: 0.8950\n",
      "Precision: ['0.8950', '0.0000', '0.0000', '0.0000']\n",
      "Recall: ['1.0000', '0.0000', '0.0000', '0.0000']\n",
      "FScore: ['0.9446', '0.0000', '0.0000', '0.0000']\n",
      "Best model saved!\n"
     ]
    },
    {
     "name": "stderr",
     "output_type": "stream",
     "text": [
      "Epoch 5/1000  MPS Active  LR : 1.00E-02  Loss: 0.4820: 100%|██████████| 74/74 [00:01<00:00, 38.52it/s]\n",
      "Val Loss: 0.4657: 100%|██████████| 60/60 [00:00<00:00, 68.56it/s]\n",
      "/opt/anaconda3/lib/python3.11/site-packages/sklearn/metrics/_classification.py:1531: UndefinedMetricWarning: Precision is ill-defined and being set to 0.0 in labels with no predicted samples. Use `zero_division` parameter to control this behavior.\n",
      "  _warn_prf(average, modifier, f\"{metric.capitalize()} is\", len(result))\n"
     ]
    },
    {
     "name": "stdout",
     "output_type": "stream",
     "text": [
      "Validation Accuracy: 0.8950\n",
      "Precision: ['0.8950', '0.0000', '0.0000', '0.0000']\n",
      "Recall: ['1.0000', '0.0000', '0.0000', '0.0000']\n",
      "FScore: ['0.9446', '0.0000', '0.0000', '0.0000']\n",
      "Best model saved!\n"
     ]
    },
    {
     "name": "stderr",
     "output_type": "stream",
     "text": [
      "Epoch 6/1000  MPS Active  LR : 1.00E-02  Loss: 0.4776: 100%|██████████| 74/74 [00:01<00:00, 41.07it/s]\n",
      "Val Loss: 0.4687: 100%|██████████| 60/60 [00:00<00:00, 73.87it/s]\n",
      "/opt/anaconda3/lib/python3.11/site-packages/sklearn/metrics/_classification.py:1531: UndefinedMetricWarning: Precision is ill-defined and being set to 0.0 in labels with no predicted samples. Use `zero_division` parameter to control this behavior.\n",
      "  _warn_prf(average, modifier, f\"{metric.capitalize()} is\", len(result))\n"
     ]
    },
    {
     "name": "stdout",
     "output_type": "stream",
     "text": [
      "Validation Accuracy: 0.8950\n",
      "Precision: ['0.8950', '0.0000', '0.0000', '0.0000']\n",
      "Recall: ['1.0000', '0.0000', '0.0000', '0.0000']\n",
      "FScore: ['0.9446', '0.0000', '0.0000', '0.0000']\n",
      "Early stopping counter: 1/10\n"
     ]
    },
    {
     "name": "stderr",
     "output_type": "stream",
     "text": [
      "Epoch 7/1000  MPS Active  LR : 1.00E-02  Loss: 0.4771: 100%|██████████| 74/74 [00:01<00:00, 41.08it/s]\n",
      "Val Loss: 0.4671: 100%|██████████| 60/60 [00:00<00:00, 66.41it/s]\n",
      "/opt/anaconda3/lib/python3.11/site-packages/sklearn/metrics/_classification.py:1531: UndefinedMetricWarning: Precision is ill-defined and being set to 0.0 in labels with no predicted samples. Use `zero_division` parameter to control this behavior.\n",
      "  _warn_prf(average, modifier, f\"{metric.capitalize()} is\", len(result))\n"
     ]
    },
    {
     "name": "stdout",
     "output_type": "stream",
     "text": [
      "Validation Accuracy: 0.8950\n",
      "Precision: ['0.8950', '0.0000', '0.0000', '0.0000']\n",
      "Recall: ['1.0000', '0.0000', '0.0000', '0.0000']\n",
      "FScore: ['0.9446', '0.0000', '0.0000', '0.0000']\n",
      "Early stopping counter: 2/10\n"
     ]
    },
    {
     "name": "stderr",
     "output_type": "stream",
     "text": [
      "Epoch 8/1000  MPS Active  LR : 1.00E-02  Loss: 0.4660: 100%|██████████| 74/74 [00:01<00:00, 40.60it/s]\n",
      "Val Loss: 0.4700: 100%|██████████| 60/60 [00:00<00:00, 63.42it/s]\n",
      "/opt/anaconda3/lib/python3.11/site-packages/sklearn/metrics/_classification.py:1531: UndefinedMetricWarning: Precision is ill-defined and being set to 0.0 in labels with no predicted samples. Use `zero_division` parameter to control this behavior.\n",
      "  _warn_prf(average, modifier, f\"{metric.capitalize()} is\", len(result))\n"
     ]
    },
    {
     "name": "stdout",
     "output_type": "stream",
     "text": [
      "Validation Accuracy: 0.8950\n",
      "Precision: ['0.8950', '0.0000', '0.0000', '0.0000']\n",
      "Recall: ['1.0000', '0.0000', '0.0000', '0.0000']\n",
      "FScore: ['0.9446', '0.0000', '0.0000', '0.0000']\n",
      "Early stopping counter: 3/10\n"
     ]
    },
    {
     "name": "stderr",
     "output_type": "stream",
     "text": [
      "Epoch 9/1000  MPS Active  LR : 1.00E-02  Loss: 0.4655: 100%|██████████| 74/74 [00:01<00:00, 41.60it/s]\n",
      "Val Loss: 0.4849: 100%|██████████| 60/60 [00:00<00:00, 74.04it/s]\n",
      "/opt/anaconda3/lib/python3.11/site-packages/sklearn/metrics/_classification.py:1531: UndefinedMetricWarning: Precision is ill-defined and being set to 0.0 in labels with no predicted samples. Use `zero_division` parameter to control this behavior.\n",
      "  _warn_prf(average, modifier, f\"{metric.capitalize()} is\", len(result))\n"
     ]
    },
    {
     "name": "stdout",
     "output_type": "stream",
     "text": [
      "Validation Accuracy: 0.8950\n",
      "Precision: ['0.8950', '0.0000', '0.0000', '0.0000']\n",
      "Recall: ['1.0000', '0.0000', '0.0000', '0.0000']\n",
      "FScore: ['0.9446', '0.0000', '0.0000', '0.0000']\n",
      "Early stopping counter: 4/10\n"
     ]
    },
    {
     "name": "stderr",
     "output_type": "stream",
     "text": [
      "Epoch 10/1000  MPS Active  LR : 5.00E-03  Loss: 0.4689: 100%|██████████| 74/74 [00:01<00:00, 42.49it/s]\n",
      "Val Loss: 0.4649: 100%|██████████| 60/60 [00:00<00:00, 69.87it/s]\n",
      "/opt/anaconda3/lib/python3.11/site-packages/sklearn/metrics/_classification.py:1531: UndefinedMetricWarning: Precision is ill-defined and being set to 0.0 in labels with no predicted samples. Use `zero_division` parameter to control this behavior.\n",
      "  _warn_prf(average, modifier, f\"{metric.capitalize()} is\", len(result))\n"
     ]
    },
    {
     "name": "stdout",
     "output_type": "stream",
     "text": [
      "Validation Accuracy: 0.8950\n",
      "Precision: ['0.8950', '0.0000', '0.0000', '0.0000']\n",
      "Recall: ['1.0000', '0.0000', '0.0000', '0.0000']\n",
      "FScore: ['0.9446', '0.0000', '0.0000', '0.0000']\n",
      "Best model saved!\n"
     ]
    },
    {
     "name": "stderr",
     "output_type": "stream",
     "text": [
      "Epoch 11/1000  MPS Active  LR : 5.00E-03  Loss: 0.4626: 100%|██████████| 74/74 [00:01<00:00, 41.08it/s]\n",
      "Val Loss: 0.4728: 100%|██████████| 60/60 [00:00<00:00, 70.13it/s]\n",
      "/opt/anaconda3/lib/python3.11/site-packages/sklearn/metrics/_classification.py:1531: UndefinedMetricWarning: Precision is ill-defined and being set to 0.0 in labels with no predicted samples. Use `zero_division` parameter to control this behavior.\n",
      "  _warn_prf(average, modifier, f\"{metric.capitalize()} is\", len(result))\n"
     ]
    },
    {
     "name": "stdout",
     "output_type": "stream",
     "text": [
      "Validation Accuracy: 0.8950\n",
      "Precision: ['0.8950', '0.0000', '0.0000', '0.0000']\n",
      "Recall: ['1.0000', '0.0000', '0.0000', '0.0000']\n",
      "FScore: ['0.9446', '0.0000', '0.0000', '0.0000']\n",
      "Early stopping counter: 1/10\n"
     ]
    },
    {
     "name": "stderr",
     "output_type": "stream",
     "text": [
      "Epoch 12/1000  MPS Active  LR : 5.00E-03  Loss: 0.4697: 100%|██████████| 74/74 [00:01<00:00, 41.23it/s]\n",
      "Val Loss: 0.4715: 100%|██████████| 60/60 [00:00<00:00, 71.38it/s]\n",
      "/opt/anaconda3/lib/python3.11/site-packages/sklearn/metrics/_classification.py:1531: UndefinedMetricWarning: Precision is ill-defined and being set to 0.0 in labels with no predicted samples. Use `zero_division` parameter to control this behavior.\n",
      "  _warn_prf(average, modifier, f\"{metric.capitalize()} is\", len(result))\n"
     ]
    },
    {
     "name": "stdout",
     "output_type": "stream",
     "text": [
      "Validation Accuracy: 0.8950\n",
      "Precision: ['0.8950', '0.0000', '0.0000', '0.0000']\n",
      "Recall: ['1.0000', '0.0000', '0.0000', '0.0000']\n",
      "FScore: ['0.9446', '0.0000', '0.0000', '0.0000']\n",
      "Early stopping counter: 2/10\n"
     ]
    },
    {
     "name": "stderr",
     "output_type": "stream",
     "text": [
      "Epoch 13/1000  MPS Active  LR : 5.00E-03  Loss: 0.4573: 100%|██████████| 74/74 [00:01<00:00, 39.78it/s]\n",
      "Val Loss: 0.4655: 100%|██████████| 60/60 [00:00<00:00, 69.29it/s]\n",
      "/opt/anaconda3/lib/python3.11/site-packages/sklearn/metrics/_classification.py:1531: UndefinedMetricWarning: Precision is ill-defined and being set to 0.0 in labels with no predicted samples. Use `zero_division` parameter to control this behavior.\n",
      "  _warn_prf(average, modifier, f\"{metric.capitalize()} is\", len(result))\n"
     ]
    },
    {
     "name": "stdout",
     "output_type": "stream",
     "text": [
      "Validation Accuracy: 0.8950\n",
      "Precision: ['0.8950', '0.0000', '0.0000', '0.0000']\n",
      "Recall: ['1.0000', '0.0000', '0.0000', '0.0000']\n",
      "FScore: ['0.9446', '0.0000', '0.0000', '0.0000']\n",
      "Early stopping counter: 3/10\n"
     ]
    },
    {
     "name": "stderr",
     "output_type": "stream",
     "text": [
      "Epoch 14/1000  MPS Active  LR : 5.00E-03  Loss: 0.4558: 100%|██████████| 74/74 [00:01<00:00, 40.53it/s]\n",
      "Val Loss: 0.4647: 100%|██████████| 60/60 [00:00<00:00, 69.78it/s]\n",
      "/opt/anaconda3/lib/python3.11/site-packages/sklearn/metrics/_classification.py:1531: UndefinedMetricWarning: Precision is ill-defined and being set to 0.0 in labels with no predicted samples. Use `zero_division` parameter to control this behavior.\n",
      "  _warn_prf(average, modifier, f\"{metric.capitalize()} is\", len(result))\n"
     ]
    },
    {
     "name": "stdout",
     "output_type": "stream",
     "text": [
      "Validation Accuracy: 0.8950\n",
      "Precision: ['0.8950', '0.0000', '0.0000', '0.0000']\n",
      "Recall: ['1.0000', '0.0000', '0.0000', '0.0000']\n",
      "FScore: ['0.9446', '0.0000', '0.0000', '0.0000']\n",
      "Best model saved!\n"
     ]
    },
    {
     "name": "stderr",
     "output_type": "stream",
     "text": [
      "Epoch 15/1000  MPS Active  LR : 5.00E-03  Loss: 0.4714: 100%|██████████| 74/74 [00:01<00:00, 41.59it/s]\n",
      "Val Loss: 0.4665: 100%|██████████| 60/60 [00:00<00:00, 68.81it/s]\n",
      "/opt/anaconda3/lib/python3.11/site-packages/sklearn/metrics/_classification.py:1531: UndefinedMetricWarning: Precision is ill-defined and being set to 0.0 in labels with no predicted samples. Use `zero_division` parameter to control this behavior.\n",
      "  _warn_prf(average, modifier, f\"{metric.capitalize()} is\", len(result))\n"
     ]
    },
    {
     "name": "stdout",
     "output_type": "stream",
     "text": [
      "Validation Accuracy: 0.8950\n",
      "Precision: ['0.8950', '0.0000', '0.0000', '0.0000']\n",
      "Recall: ['1.0000', '0.0000', '0.0000', '0.0000']\n",
      "FScore: ['0.9446', '0.0000', '0.0000', '0.0000']\n",
      "Early stopping counter: 1/10\n"
     ]
    },
    {
     "name": "stderr",
     "output_type": "stream",
     "text": [
      "Epoch 16/1000  MPS Active  LR : 5.00E-03  Loss: 0.4557: 100%|██████████| 74/74 [00:01<00:00, 40.49it/s]\n",
      "Val Loss: 0.4670: 100%|██████████| 60/60 [00:00<00:00, 73.34it/s]\n",
      "/opt/anaconda3/lib/python3.11/site-packages/sklearn/metrics/_classification.py:1531: UndefinedMetricWarning: Precision is ill-defined and being set to 0.0 in labels with no predicted samples. Use `zero_division` parameter to control this behavior.\n",
      "  _warn_prf(average, modifier, f\"{metric.capitalize()} is\", len(result))\n"
     ]
    },
    {
     "name": "stdout",
     "output_type": "stream",
     "text": [
      "Validation Accuracy: 0.8950\n",
      "Precision: ['0.8950', '0.0000', '0.0000', '0.0000']\n",
      "Recall: ['1.0000', '0.0000', '0.0000', '0.0000']\n",
      "FScore: ['0.9446', '0.0000', '0.0000', '0.0000']\n",
      "Early stopping counter: 2/10\n"
     ]
    },
    {
     "name": "stderr",
     "output_type": "stream",
     "text": [
      "Epoch 17/1000  MPS Active  LR : 5.00E-03  Loss: 0.4585: 100%|██████████| 74/74 [00:01<00:00, 41.05it/s]\n",
      "Val Loss: 0.4626: 100%|██████████| 60/60 [00:00<00:00, 69.44it/s]\n",
      "/opt/anaconda3/lib/python3.11/site-packages/sklearn/metrics/_classification.py:1531: UndefinedMetricWarning: Precision is ill-defined and being set to 0.0 in labels with no predicted samples. Use `zero_division` parameter to control this behavior.\n",
      "  _warn_prf(average, modifier, f\"{metric.capitalize()} is\", len(result))\n"
     ]
    },
    {
     "name": "stdout",
     "output_type": "stream",
     "text": [
      "Validation Accuracy: 0.8950\n",
      "Precision: ['0.8950', '0.0000', '0.0000', '0.0000']\n",
      "Recall: ['1.0000', '0.0000', '0.0000', '0.0000']\n",
      "FScore: ['0.9446', '0.0000', '0.0000', '0.0000']\n",
      "Best model saved!\n"
     ]
    },
    {
     "name": "stderr",
     "output_type": "stream",
     "text": [
      "Epoch 18/1000  MPS Active  LR : 5.00E-03  Loss: 0.4535: 100%|██████████| 74/74 [00:01<00:00, 41.71it/s]\n",
      "Val Loss: 0.4632: 100%|██████████| 60/60 [00:00<00:00, 73.42it/s]\n",
      "/opt/anaconda3/lib/python3.11/site-packages/sklearn/metrics/_classification.py:1531: UndefinedMetricWarning: Precision is ill-defined and being set to 0.0 in labels with no predicted samples. Use `zero_division` parameter to control this behavior.\n",
      "  _warn_prf(average, modifier, f\"{metric.capitalize()} is\", len(result))\n"
     ]
    },
    {
     "name": "stdout",
     "output_type": "stream",
     "text": [
      "Validation Accuracy: 0.8950\n",
      "Precision: ['0.8950', '0.0000', '0.0000', '0.0000']\n",
      "Recall: ['1.0000', '0.0000', '0.0000', '0.0000']\n",
      "FScore: ['0.9446', '0.0000', '0.0000', '0.0000']\n",
      "Early stopping counter: 1/10\n"
     ]
    },
    {
     "name": "stderr",
     "output_type": "stream",
     "text": [
      "Epoch 19/1000  MPS Active  LR : 5.00E-03  Loss: 0.4576: 100%|██████████| 74/74 [00:01<00:00, 41.56it/s]\n",
      "Val Loss: 0.4700: 100%|██████████| 60/60 [00:00<00:00, 70.85it/s]\n",
      "/opt/anaconda3/lib/python3.11/site-packages/sklearn/metrics/_classification.py:1531: UndefinedMetricWarning: Precision is ill-defined and being set to 0.0 in labels with no predicted samples. Use `zero_division` parameter to control this behavior.\n",
      "  _warn_prf(average, modifier, f\"{metric.capitalize()} is\", len(result))\n"
     ]
    },
    {
     "name": "stdout",
     "output_type": "stream",
     "text": [
      "Validation Accuracy: 0.8950\n",
      "Precision: ['0.8950', '0.0000', '0.0000', '0.0000']\n",
      "Recall: ['1.0000', '0.0000', '0.0000', '0.0000']\n",
      "FScore: ['0.9446', '0.0000', '0.0000', '0.0000']\n",
      "Early stopping counter: 2/10\n"
     ]
    },
    {
     "name": "stderr",
     "output_type": "stream",
     "text": [
      "Epoch 20/1000  MPS Active  LR : 5.00E-03  Loss: 0.4546: 100%|██████████| 74/74 [00:01<00:00, 41.39it/s]\n",
      "Val Loss: 0.4596: 100%|██████████| 60/60 [00:00<00:00, 69.87it/s]\n",
      "/opt/anaconda3/lib/python3.11/site-packages/sklearn/metrics/_classification.py:1531: UndefinedMetricWarning: Precision is ill-defined and being set to 0.0 in labels with no predicted samples. Use `zero_division` parameter to control this behavior.\n",
      "  _warn_prf(average, modifier, f\"{metric.capitalize()} is\", len(result))\n"
     ]
    },
    {
     "name": "stdout",
     "output_type": "stream",
     "text": [
      "Validation Accuracy: 0.8950\n",
      "Precision: ['0.8950', '0.0000', '0.0000', '0.0000']\n",
      "Recall: ['1.0000', '0.0000', '0.0000', '0.0000']\n",
      "FScore: ['0.9446', '0.0000', '0.0000', '0.0000']\n",
      "Best model saved!\n"
     ]
    },
    {
     "name": "stderr",
     "output_type": "stream",
     "text": [
      "Epoch 21/1000  MPS Active  LR : 5.00E-03  Loss: 0.4617: 100%|██████████| 74/74 [00:01<00:00, 41.01it/s]\n",
      "Val Loss: 0.4617: 100%|██████████| 60/60 [00:00<00:00, 72.88it/s]\n",
      "/opt/anaconda3/lib/python3.11/site-packages/sklearn/metrics/_classification.py:1531: UndefinedMetricWarning: Precision is ill-defined and being set to 0.0 in labels with no predicted samples. Use `zero_division` parameter to control this behavior.\n",
      "  _warn_prf(average, modifier, f\"{metric.capitalize()} is\", len(result))\n"
     ]
    },
    {
     "name": "stdout",
     "output_type": "stream",
     "text": [
      "Validation Accuracy: 0.8950\n",
      "Precision: ['0.8950', '0.0000', '0.0000', '0.0000']\n",
      "Recall: ['1.0000', '0.0000', '0.0000', '0.0000']\n",
      "FScore: ['0.9446', '0.0000', '0.0000', '0.0000']\n",
      "Early stopping counter: 1/10\n"
     ]
    },
    {
     "name": "stderr",
     "output_type": "stream",
     "text": [
      "Epoch 22/1000  MPS Active  LR : 5.00E-03  Loss: 0.4536: 100%|██████████| 74/74 [00:01<00:00, 40.84it/s]\n",
      "Val Loss: 0.4588: 100%|██████████| 60/60 [00:00<00:00, 66.97it/s]\n",
      "/opt/anaconda3/lib/python3.11/site-packages/sklearn/metrics/_classification.py:1531: UndefinedMetricWarning: Precision is ill-defined and being set to 0.0 in labels with no predicted samples. Use `zero_division` parameter to control this behavior.\n",
      "  _warn_prf(average, modifier, f\"{metric.capitalize()} is\", len(result))\n"
     ]
    },
    {
     "name": "stdout",
     "output_type": "stream",
     "text": [
      "Validation Accuracy: 0.8950\n",
      "Precision: ['0.8950', '0.0000', '0.0000', '0.0000']\n",
      "Recall: ['1.0000', '0.0000', '0.0000', '0.0000']\n",
      "FScore: ['0.9446', '0.0000', '0.0000', '0.0000']\n",
      "Best model saved!\n"
     ]
    },
    {
     "name": "stderr",
     "output_type": "stream",
     "text": [
      "Epoch 23/1000  MPS Active  LR : 5.00E-03  Loss: 0.4538: 100%|██████████| 74/74 [00:01<00:00, 41.93it/s]\n",
      "Val Loss: 0.4664: 100%|██████████| 60/60 [00:00<00:00, 74.81it/s]\n",
      "/opt/anaconda3/lib/python3.11/site-packages/sklearn/metrics/_classification.py:1531: UndefinedMetricWarning: Precision is ill-defined and being set to 0.0 in labels with no predicted samples. Use `zero_division` parameter to control this behavior.\n",
      "  _warn_prf(average, modifier, f\"{metric.capitalize()} is\", len(result))\n"
     ]
    },
    {
     "name": "stdout",
     "output_type": "stream",
     "text": [
      "Validation Accuracy: 0.8950\n",
      "Precision: ['0.8950', '0.0000', '0.0000', '0.0000']\n",
      "Recall: ['1.0000', '0.0000', '0.0000', '0.0000']\n",
      "FScore: ['0.9446', '0.0000', '0.0000', '0.0000']\n",
      "Early stopping counter: 1/10\n"
     ]
    },
    {
     "name": "stderr",
     "output_type": "stream",
     "text": [
      "Epoch 24/1000  MPS Active  LR : 5.00E-03  Loss: 0.4508: 100%|██████████| 74/74 [00:01<00:00, 38.03it/s]\n",
      "Val Loss: 0.4680: 100%|██████████| 60/60 [00:00<00:00, 70.55it/s]\n",
      "/opt/anaconda3/lib/python3.11/site-packages/sklearn/metrics/_classification.py:1531: UndefinedMetricWarning: Precision is ill-defined and being set to 0.0 in labels with no predicted samples. Use `zero_division` parameter to control this behavior.\n",
      "  _warn_prf(average, modifier, f\"{metric.capitalize()} is\", len(result))\n"
     ]
    },
    {
     "name": "stdout",
     "output_type": "stream",
     "text": [
      "Validation Accuracy: 0.8950\n",
      "Precision: ['0.8950', '0.0000', '0.0000', '0.0000']\n",
      "Recall: ['1.0000', '0.0000', '0.0000', '0.0000']\n",
      "FScore: ['0.9446', '0.0000', '0.0000', '0.0000']\n",
      "Early stopping counter: 2/10\n"
     ]
    },
    {
     "name": "stderr",
     "output_type": "stream",
     "text": [
      "Epoch 25/1000  MPS Active  LR : 5.00E-03  Loss: 0.4560: 100%|██████████| 74/74 [00:02<00:00, 33.10it/s]\n",
      "Val Loss: 0.4690: 100%|██████████| 60/60 [00:00<00:00, 71.17it/s]\n",
      "/opt/anaconda3/lib/python3.11/site-packages/sklearn/metrics/_classification.py:1531: UndefinedMetricWarning: Precision is ill-defined and being set to 0.0 in labels with no predicted samples. Use `zero_division` parameter to control this behavior.\n",
      "  _warn_prf(average, modifier, f\"{metric.capitalize()} is\", len(result))\n"
     ]
    },
    {
     "name": "stdout",
     "output_type": "stream",
     "text": [
      "Validation Accuracy: 0.8950\n",
      "Precision: ['0.8950', '0.0000', '0.0000', '0.0000']\n",
      "Recall: ['1.0000', '0.0000', '0.0000', '0.0000']\n",
      "FScore: ['0.9446', '0.0000', '0.0000', '0.0000']\n",
      "Early stopping counter: 3/10\n"
     ]
    },
    {
     "name": "stderr",
     "output_type": "stream",
     "text": [
      "Epoch 26/1000  MPS Active  LR : 5.00E-03  Loss: 0.4541: 100%|██████████| 74/74 [00:01<00:00, 41.35it/s]\n",
      "Val Loss: 0.4559: 100%|██████████| 60/60 [00:00<00:00, 67.75it/s]\n",
      "/opt/anaconda3/lib/python3.11/site-packages/sklearn/metrics/_classification.py:1531: UndefinedMetricWarning: Precision is ill-defined and being set to 0.0 in labels with no predicted samples. Use `zero_division` parameter to control this behavior.\n",
      "  _warn_prf(average, modifier, f\"{metric.capitalize()} is\", len(result))\n"
     ]
    },
    {
     "name": "stdout",
     "output_type": "stream",
     "text": [
      "Validation Accuracy: 0.8950\n",
      "Precision: ['0.8950', '0.0000', '0.0000', '0.0000']\n",
      "Recall: ['1.0000', '0.0000', '0.0000', '0.0000']\n",
      "FScore: ['0.9446', '0.0000', '0.0000', '0.0000']\n",
      "Best model saved!\n"
     ]
    },
    {
     "name": "stderr",
     "output_type": "stream",
     "text": [
      "Epoch 27/1000  MPS Active  LR : 5.00E-03  Loss: 0.4600: 100%|██████████| 74/74 [00:01<00:00, 41.63it/s]\n",
      "Val Loss: 0.4579: 100%|██████████| 60/60 [00:00<00:00, 68.60it/s]\n",
      "/opt/anaconda3/lib/python3.11/site-packages/sklearn/metrics/_classification.py:1531: UndefinedMetricWarning: Precision is ill-defined and being set to 0.0 in labels with no predicted samples. Use `zero_division` parameter to control this behavior.\n",
      "  _warn_prf(average, modifier, f\"{metric.capitalize()} is\", len(result))\n"
     ]
    },
    {
     "name": "stdout",
     "output_type": "stream",
     "text": [
      "Validation Accuracy: 0.8950\n",
      "Precision: ['0.8950', '0.0000', '0.0000', '0.0000']\n",
      "Recall: ['1.0000', '0.0000', '0.0000', '0.0000']\n",
      "FScore: ['0.9446', '0.0000', '0.0000', '0.0000']\n",
      "Early stopping counter: 1/10\n"
     ]
    },
    {
     "name": "stderr",
     "output_type": "stream",
     "text": [
      "Epoch 28/1000  MPS Active  LR : 5.00E-03  Loss: 0.4458: 100%|██████████| 74/74 [00:02<00:00, 36.82it/s]\n",
      "Val Loss: 0.4655: 100%|██████████| 60/60 [00:00<00:00, 66.58it/s]\n",
      "/opt/anaconda3/lib/python3.11/site-packages/sklearn/metrics/_classification.py:1531: UndefinedMetricWarning: Precision is ill-defined and being set to 0.0 in labels with no predicted samples. Use `zero_division` parameter to control this behavior.\n",
      "  _warn_prf(average, modifier, f\"{metric.capitalize()} is\", len(result))\n"
     ]
    },
    {
     "name": "stdout",
     "output_type": "stream",
     "text": [
      "Validation Accuracy: 0.8950\n",
      "Precision: ['0.8950', '0.0000', '0.0000', '0.0000']\n",
      "Recall: ['1.0000', '0.0000', '0.0000', '0.0000']\n",
      "FScore: ['0.9446', '0.0000', '0.0000', '0.0000']\n",
      "Early stopping counter: 2/10\n"
     ]
    },
    {
     "name": "stderr",
     "output_type": "stream",
     "text": [
      "Epoch 29/1000  MPS Active  LR : 5.00E-03  Loss: 0.4574: 100%|██████████| 74/74 [00:02<00:00, 36.39it/s]\n",
      "Val Loss: 0.4660: 100%|██████████| 60/60 [00:00<00:00, 69.83it/s]\n",
      "/opt/anaconda3/lib/python3.11/site-packages/sklearn/metrics/_classification.py:1531: UndefinedMetricWarning: Precision is ill-defined and being set to 0.0 in labels with no predicted samples. Use `zero_division` parameter to control this behavior.\n",
      "  _warn_prf(average, modifier, f\"{metric.capitalize()} is\", len(result))\n"
     ]
    },
    {
     "name": "stdout",
     "output_type": "stream",
     "text": [
      "Validation Accuracy: 0.8950\n",
      "Precision: ['0.8950', '0.0000', '0.0000', '0.0000']\n",
      "Recall: ['1.0000', '0.0000', '0.0000', '0.0000']\n",
      "FScore: ['0.9446', '0.0000', '0.0000', '0.0000']\n",
      "Early stopping counter: 3/10\n"
     ]
    },
    {
     "name": "stderr",
     "output_type": "stream",
     "text": [
      "Epoch 30/1000  MPS Active  LR : 5.00E-03  Loss: 0.4544: 100%|██████████| 74/74 [00:02<00:00, 36.00it/s]\n",
      "Val Loss: 0.4654: 100%|██████████| 60/60 [00:00<00:00, 70.65it/s]\n",
      "/opt/anaconda3/lib/python3.11/site-packages/sklearn/metrics/_classification.py:1531: UndefinedMetricWarning: Precision is ill-defined and being set to 0.0 in labels with no predicted samples. Use `zero_division` parameter to control this behavior.\n",
      "  _warn_prf(average, modifier, f\"{metric.capitalize()} is\", len(result))\n"
     ]
    },
    {
     "name": "stdout",
     "output_type": "stream",
     "text": [
      "Validation Accuracy: 0.8950\n",
      "Precision: ['0.8950', '0.0000', '0.0000', '0.0000']\n",
      "Recall: ['1.0000', '0.0000', '0.0000', '0.0000']\n",
      "FScore: ['0.9446', '0.0000', '0.0000', '0.0000']\n",
      "Early stopping counter: 4/10\n"
     ]
    },
    {
     "name": "stderr",
     "output_type": "stream",
     "text": [
      "Epoch 31/1000  MPS Active  LR : 2.50E-03  Loss: 0.4470: 100%|██████████| 74/74 [00:01<00:00, 38.95it/s]\n",
      "Val Loss: 0.4573: 100%|██████████| 60/60 [00:00<00:00, 63.25it/s]\n",
      "/opt/anaconda3/lib/python3.11/site-packages/sklearn/metrics/_classification.py:1531: UndefinedMetricWarning: Precision is ill-defined and being set to 0.0 in labels with no predicted samples. Use `zero_division` parameter to control this behavior.\n",
      "  _warn_prf(average, modifier, f\"{metric.capitalize()} is\", len(result))\n"
     ]
    },
    {
     "name": "stdout",
     "output_type": "stream",
     "text": [
      "Validation Accuracy: 0.8950\n",
      "Precision: ['0.8950', '0.0000', '0.0000', '0.0000']\n",
      "Recall: ['1.0000', '0.0000', '0.0000', '0.0000']\n",
      "FScore: ['0.9446', '0.0000', '0.0000', '0.0000']\n",
      "Early stopping counter: 5/10\n"
     ]
    },
    {
     "name": "stderr",
     "output_type": "stream",
     "text": [
      "Epoch 32/1000  MPS Active  LR : 2.50E-03  Loss: 0.4555: 100%|██████████| 74/74 [00:01<00:00, 39.12it/s]\n",
      "Val Loss: 0.4613: 100%|██████████| 60/60 [00:00<00:00, 74.10it/s]\n",
      "/opt/anaconda3/lib/python3.11/site-packages/sklearn/metrics/_classification.py:1531: UndefinedMetricWarning: Precision is ill-defined and being set to 0.0 in labels with no predicted samples. Use `zero_division` parameter to control this behavior.\n",
      "  _warn_prf(average, modifier, f\"{metric.capitalize()} is\", len(result))\n"
     ]
    },
    {
     "name": "stdout",
     "output_type": "stream",
     "text": [
      "Validation Accuracy: 0.8950\n",
      "Precision: ['0.8950', '0.0000', '0.0000', '0.0000']\n",
      "Recall: ['1.0000', '0.0000', '0.0000', '0.0000']\n",
      "FScore: ['0.9446', '0.0000', '0.0000', '0.0000']\n",
      "Early stopping counter: 6/10\n"
     ]
    },
    {
     "name": "stderr",
     "output_type": "stream",
     "text": [
      "Epoch 33/1000  MPS Active  LR : 2.50E-03  Loss: 0.4616: 100%|██████████| 74/74 [00:01<00:00, 40.52it/s]\n",
      "Val Loss: 0.4695: 100%|██████████| 60/60 [00:00<00:00, 67.36it/s]\n",
      "/opt/anaconda3/lib/python3.11/site-packages/sklearn/metrics/_classification.py:1531: UndefinedMetricWarning: Precision is ill-defined and being set to 0.0 in labels with no predicted samples. Use `zero_division` parameter to control this behavior.\n",
      "  _warn_prf(average, modifier, f\"{metric.capitalize()} is\", len(result))\n"
     ]
    },
    {
     "name": "stdout",
     "output_type": "stream",
     "text": [
      "Validation Accuracy: 0.8950\n",
      "Precision: ['0.8950', '0.0000', '0.0000', '0.0000']\n",
      "Recall: ['1.0000', '0.0000', '0.0000', '0.0000']\n",
      "FScore: ['0.9446', '0.0000', '0.0000', '0.0000']\n",
      "Early stopping counter: 7/10\n"
     ]
    },
    {
     "name": "stderr",
     "output_type": "stream",
     "text": [
      "Epoch 34/1000  MPS Active  LR : 2.50E-03  Loss: 0.4493: 100%|██████████| 74/74 [00:01<00:00, 40.71it/s]\n",
      "Val Loss: 0.4719: 100%|██████████| 60/60 [00:00<00:00, 68.28it/s]\n",
      "/opt/anaconda3/lib/python3.11/site-packages/sklearn/metrics/_classification.py:1531: UndefinedMetricWarning: Precision is ill-defined and being set to 0.0 in labels with no predicted samples. Use `zero_division` parameter to control this behavior.\n",
      "  _warn_prf(average, modifier, f\"{metric.capitalize()} is\", len(result))\n"
     ]
    },
    {
     "name": "stdout",
     "output_type": "stream",
     "text": [
      "Validation Accuracy: 0.8950\n",
      "Precision: ['0.8950', '0.0000', '0.0000', '0.0000']\n",
      "Recall: ['1.0000', '0.0000', '0.0000', '0.0000']\n",
      "FScore: ['0.9446', '0.0000', '0.0000', '0.0000']\n",
      "Early stopping counter: 8/10\n"
     ]
    },
    {
     "name": "stderr",
     "output_type": "stream",
     "text": [
      "Epoch 35/1000  MPS Active  LR : 1.25E-03  Loss: 0.4495: 100%|██████████| 74/74 [00:01<00:00, 41.47it/s]\n",
      "Val Loss: 0.4601: 100%|██████████| 60/60 [00:00<00:00, 65.24it/s]\n",
      "/opt/anaconda3/lib/python3.11/site-packages/sklearn/metrics/_classification.py:1531: UndefinedMetricWarning: Precision is ill-defined and being set to 0.0 in labels with no predicted samples. Use `zero_division` parameter to control this behavior.\n",
      "  _warn_prf(average, modifier, f\"{metric.capitalize()} is\", len(result))\n"
     ]
    },
    {
     "name": "stdout",
     "output_type": "stream",
     "text": [
      "Validation Accuracy: 0.8950\n",
      "Precision: ['0.8950', '0.0000', '0.0000', '0.0000']\n",
      "Recall: ['1.0000', '0.0000', '0.0000', '0.0000']\n",
      "FScore: ['0.9446', '0.0000', '0.0000', '0.0000']\n",
      "Early stopping counter: 9/10\n"
     ]
    },
    {
     "name": "stderr",
     "output_type": "stream",
     "text": [
      "Epoch 36/1000  MPS Active  LR : 1.25E-03  Loss: 0.4455: 100%|██████████| 74/74 [00:01<00:00, 40.17it/s]\n",
      "Val Loss: 0.4665: 100%|██████████| 60/60 [00:00<00:00, 69.07it/s]"
     ]
    },
    {
     "name": "stdout",
     "output_type": "stream",
     "text": [
      "Validation Accuracy: 0.8950\n",
      "Precision: ['0.8950', '0.0000', '0.0000', '0.0000']\n",
      "Recall: ['1.0000', '0.0000', '0.0000', '0.0000']\n",
      "FScore: ['0.9446', '0.0000', '0.0000', '0.0000']\n",
      "Early stopping counter: 10/10\n",
      "Validation loss has increased for multiple epochs, stopping early!\n"
     ]
    },
    {
     "name": "stderr",
     "output_type": "stream",
     "text": [
      "\n",
      "/opt/anaconda3/lib/python3.11/site-packages/sklearn/metrics/_classification.py:1531: UndefinedMetricWarning: Precision is ill-defined and being set to 0.0 in labels with no predicted samples. Use `zero_division` parameter to control this behavior.\n",
      "  _warn_prf(average, modifier, f\"{metric.capitalize()} is\", len(result))\n"
     ]
    }
   ],
   "source": [
    "import torch\n",
    "import torch.nn.functional as F\n",
    "from torch.optim.lr_scheduler import ReduceLROnPlateau\n",
    "from tqdm import tqdm\n",
    "import numpy as np\n",
    "from sklearn.metrics import precision_recall_fscore_support\n",
    "\n",
    "# Hyperparameters\n",
    "patience = 10\n",
    "best_val_loss = float('inf')\n",
    "counter = 0\n",
    "\n",
    "scheduler = ReduceLROnPlateau(optimizer, mode='min', factor=0.5, patience=3, verbose=True)\n",
    "\n",
    "for epoch in range(1, EPOCHS + 1):\n",
    "    model.train()\n",
    "    cur_lr = f\"LR : {optimizer.param_groups[0]['lr']:.2E}\"\n",
    "\n",
    "    pbar_train = tqdm(dataloader_train, total=n_train, bar_format=\"{l_bar}{bar:10}{r_bar}{bar:-10b}\")\n",
    "    mloss_train, mloss_val = 0.0, 0.0\n",
    "\n",
    "    for i, (x, y) in enumerate(pbar_train):\n",
    "        x, y = x.to(device), y.to(device)\n",
    "        optimizer.zero_grad()\n",
    "\n",
    "        # Get model output and ensure it's a tensor, not tuple\n",
    "        output = model(x)\n",
    "        if isinstance(output, tuple):\n",
    "            y_hat = output[0]  # Take first element if tuple\n",
    "        else:\n",
    "            y_hat = output\n",
    "\n",
    "        loss = criterion(y_hat, y)\n",
    "        loss.backward()\n",
    "        optimizer.step()\n",
    "\n",
    "        mloss_train += loss.item()\n",
    "\n",
    "        gpu_mem = (\n",
    "            f\"Mem : {torch.cuda.memory_reserved() / 1E9:.3g}GB\" if torch.cuda.is_available()\n",
    "            else \"MPS Active\" if torch.backends.mps.is_available()\n",
    "            else \"CPU Mode\"\n",
    "        )\n",
    "\n",
    "        pbar_train.set_description(f\"Epoch {epoch}/{EPOCHS}  {gpu_mem}  {cur_lr}  Loss: {mloss_train / (i + 1):.4f}\")\n",
    "\n",
    "    # Validation\n",
    "    model.eval()\n",
    "    pbar_val = tqdm(dataloader_valid, total=n_valid, bar_format=\"{l_bar}{bar:10}{r_bar}{bar:-10b}\")\n",
    "\n",
    "    y_true, y_preds = [], []\n",
    "    for i, (x, y) in enumerate(pbar_val):\n",
    "        x, y = x.to(device), y.to(device)\n",
    "\n",
    "        with torch.no_grad():\n",
    "            output = model(x)\n",
    "            if isinstance(output, tuple):\n",
    "                y_hat = output[0]\n",
    "            else:\n",
    "                y_hat = output\n",
    "\n",
    "        loss = criterion(y_hat, y)\n",
    "        mloss_val += loss.item()\n",
    "        y_preds.append(y_hat)\n",
    "        y_true.append(y)\n",
    "\n",
    "        pbar_val.set_description(f\"Val Loss: {mloss_val / (i + 1):.4f}\")\n",
    "\n",
    "    y_true = torch.cat(y_true).cpu().numpy()\n",
    "    y_true = np.argmax(y_true, axis=1)\n",
    "    y_preds = F.softmax(torch.cat(y_preds), dim=1).argmax(dim=1).cpu().numpy()\n",
    "\n",
    "    accuracy = np.mean(y_true == y_preds)  \n",
    "    mets = precision_recall_fscore_support(y_true, y_preds, labels=[0, 1, 2, 3], average=None)\n",
    "\n",
    "    print(f'Validation Accuracy: {accuracy:.4f}')\n",
    "    np.savetxt(\"validation_predictions.csv\", y_preds, delimiter=\",\", fmt=\"%d\")\n",
    "\n",
    "    print(f'Precision: {[f\"{p:.4f}\" for p in mets[0]]}')\n",
    "    print(f'Recall: {[f\"{r:.4f}\" for r in mets[1]]}')\n",
    "    print(f'FScore: {[f\"{f:.4f}\" for f in mets[2]]}')\n",
    "\n",
    "    # Early Stopping & Save Best Model\n",
    "    avg_val_loss = mloss_val / len(dataloader_valid)\n",
    "    \n",
    "    if avg_val_loss < best_val_loss:\n",
    "        best_val_loss = avg_val_loss\n",
    "        counter = 0\n",
    "        torch.save(model.state_dict(), f\"RGNN_{loss_name}_best_model.pth\")\n",
    "        print(\"Best model saved!\")\n",
    "    else:\n",
    "        counter += 1\n",
    "        print(f\"Early stopping counter: {counter}/{patience}\")\n",
    "\n",
    "    if counter >= patience:\n",
    "        print(\"Validation loss has increased for multiple epochs, stopping early!\")\n",
    "        break\n",
    "\n",
    "    # Adjust learning rate\n",
    "    scheduler.step(avg_val_loss)\n"
   ]
  }
 ],
 "metadata": {
  "colab": {
   "provenance": []
  },
  "kernelspec": {
   "display_name": "Python 3 (ipykernel)",
   "language": "python",
   "name": "python3"
  },
  "language_info": {
   "codemirror_mode": {
    "name": "ipython",
    "version": 3
   },
   "file_extension": ".py",
   "mimetype": "text/x-python",
   "name": "python",
   "nbconvert_exporter": "python",
   "pygments_lexer": "ipython3",
   "version": "3.11.5"
  }
 },
 "nbformat": 4,
 "nbformat_minor": 0
}
